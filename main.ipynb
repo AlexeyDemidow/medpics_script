{
 "cells": [
  {
   "cell_type": "code",
   "metadata": {
    "collapsed": true,
    "pycharm": {
     "name": "#%%\n"
    },
    "ExecuteTime": {
     "end_time": "2024-08-14T12:02:19.695318Z",
     "start_time": "2024-08-14T12:02:19.584614Z"
    }
   },
   "source": [
    "import time\n",
    "import os\n",
    "\n",
    "from selenium import webdriver\n",
    "from selenium.webdriver.chrome.service import Service as ChromeService\n",
    "from selenium.webdriver.common.by import By\n",
    "from selenium.webdriver.chrome.options import Options\n",
    "from selenium.webdriver.support.ui import WebDriverWait\n",
    "from selenium.webdriver.support import expected_conditions as ec\n",
    "from tqdm import tqdm\n",
    "\n",
    "from selenium_stealth import stealth\n",
    "\n",
    "from selenium.common import TimeoutException"
   ],
   "outputs": [],
   "execution_count": 1
  },
  {
   "cell_type": "code",
   "source": [
    "key_word = input('Введите ключевое слово.')\n",
    "if ' ' in key_word:\n",
    "    key_word = key_word.replace(' ', '%20')\n",
    "\n",
    "num_of_pages = int(input('Введите количество страниц.'))\n",
    "\n",
    "start_link = 'https://openi.nlm.nih.gov/'"
   ],
   "metadata": {
    "collapsed": false,
    "pycharm": {
     "name": "#%%\n"
    },
    "ExecuteTime": {
     "end_time": "2024-08-14T12:02:29.028695Z",
     "start_time": "2024-08-14T12:02:22.935460Z"
    }
   },
   "outputs": [],
   "execution_count": 2
  },
  {
   "cell_type": "code",
   "source": [
    "links_list = []\n",
    "\n",
    "while len(links_list) < num_of_pages * 100:\n",
    "    try:\n",
    "        from selenium import webdriver\n",
    "        \n",
    "        options = Options()\n",
    "        options.add_argument(\"--start-maximized\")\n",
    "        options.add_argument('--disable-gpu')\n",
    "        options.add_argument(\"--disable-blink-features=AutomationControlled\")\n",
    "        options.add_experimental_option(\"excludeSwitches\", [\"enable-automation\"])\n",
    "        options.add_experimental_option('useAutomationExtension', False)\n",
    "\n",
    "        chromedriver = 'chromedriver.exe'\n",
    "        service = ChromeService(executable_path=chromedriver)\n",
    "        webdriver = webdriver.Chrome(options=options, service=service)\n",
    "\n",
    "        stealth(webdriver,\n",
    "            languages=[\"en-US\", \"en\"],\n",
    "            user_agent='Mozilla/5.0 (Windows NT 10.0; Win64; x64) AppleWebKit/537.36 (KHTML, like Gecko) Chrome/83.0.4103.53 Safari/537.36',\n",
    "            vendor=\"Google Inc.\",\n",
    "            platform=\"Win32\",\n",
    "            webgl_vendor=\"Intel Inc.\",\n",
    "            renderer=\"Intel Iris OpenGL Engine\",\n",
    "            fix_hairline=True,\n",
    "            )\n",
    "\n",
    "        time.sleep(3)\n",
    "        for i in tqdm(range(1, num_of_pages + 1)):\n",
    "            if i * 100 == 100:\n",
    "                webdriver.get(start_link + f'gridquery?q={key_word}&it=xg&m={i}&n={i * 100}')\n",
    "                time.sleep(2)\n",
    "                if WebDriverWait(webdriver, 30).until(ec.visibility_of_element_located((By.CSS_SELECTOR, '#grid'))):\n",
    "                    for j in range(1, 101):\n",
    "                        links_list.append(webdriver.find_element(By.CSS_SELECTOR, '#grid').find_element(By.CSS_SELECTOR, f'#grid > a:nth-child({j})').get_attribute('href'))\n",
    "\n",
    "            else:\n",
    "                webdriver.get(start_link + f'gridquery?q={key_word}&it=xg&m={i * 100 - 100 + 1}&n={i * 100}')\n",
    "                time.sleep(2)\n",
    "                WebDriverWait(webdriver, 30).until(ec.visibility_of_element_located((By.CSS_SELECTOR, '#grid')))\n",
    "                for k in range(1, 101):\n",
    "                    links_list.append(webdriver.find_element(By.CSS_SELECTOR, '#grid').find_element(By.CSS_SELECTOR, f'#grid > a:nth-child({k})').get_attribute('href'))\n",
    "        time.sleep(3)\n",
    "        webdriver.quit()\n",
    "\n",
    "    except TimeoutException:\n",
    "        webdriver.quit()\n",
    "        continue"
   ],
   "metadata": {
    "collapsed": false,
    "pycharm": {
     "name": "#%%\n"
    },
    "ExecuteTime": {
     "end_time": "2024-08-14T12:03:11.680048Z",
     "start_time": "2024-08-14T12:02:45.422133Z"
    }
   },
   "outputs": [
    {
     "name": "stderr",
     "output_type": "stream",
     "text": [
      "100%|██████████| 1/1 [00:12<00:00, 12.41s/it]\n"
     ]
    }
   ],
   "execution_count": 4
  },
  {
   "cell_type": "code",
   "source": [
    "article_links = []\n",
    "count = 0\n",
    "while len(links_list) > count:\n",
    "# while len(article_links) < len(links_list2):\n",
    "    try:\n",
    "        from selenium import webdriver\n",
    "        options = Options()\n",
    "        options.add_argument(\"--start-maximized\")\n",
    "        options.add_argument('--disable-gpu')\n",
    "        options.add_argument(\"--disable-blink-features=AutomationControlled\")\n",
    "        options.add_experimental_option(\"excludeSwitches\", [\"enable-automation\"])\n",
    "        options.add_experimental_option('useAutomationExtension', False)\n",
    "\n",
    "        chromedriver = 'chromedriver.exe'\n",
    "        service = ChromeService(executable_path=chromedriver)\n",
    "        webdriver = webdriver.Chrome(options=options, service=service)\n",
    "\n",
    "        stealth(webdriver,\n",
    "            languages=[\"en-US\", \"en\"],\n",
    "            user_agent='Mozilla/5.0 (Windows NT 10.0; Win64; x64) AppleWebKit/537.36 (KHTML, like Gecko) Chrome/83.0.4103.53 Safari/537.36',\n",
    "            vendor=\"Google Inc.\",\n",
    "            platform=\"Win32\",\n",
    "            webgl_vendor=\"Intel Inc.\",\n",
    "            renderer=\"Intel Iris OpenGL Engine\",\n",
    "            fix_hairline=True,\n",
    "            )\n",
    "\n",
    "        for link in tqdm(links_list):\n",
    "            count += 1\n",
    "            webdriver.get(link)\n",
    "            time.sleep(0.5)\n",
    "            webdriver.execute_script(\"window.scrollTo(0, 2080)\")\n",
    "            time.sleep(1)\n",
    "            WebDriverWait(webdriver, 30).until(ec.visibility_of_element_located((By.LINK_TEXT, 'PubMed Central')))\n",
    "            l = webdriver.find_element(By.LINK_TEXT, 'PubMed').get_attribute('href')\n",
    "            time.sleep(1)\n",
    "            if l not in article_links:\n",
    "                article_links.append(l)\n",
    "                time.sleep(1)\n",
    "\n",
    "    except TimeoutException:\n",
    "        webdriver.close()\n",
    "        continue\n",
    "webdriver.quit()"
   ],
   "metadata": {
    "collapsed": false,
    "pycharm": {
     "name": "#%%\n"
    },
    "ExecuteTime": {
     "end_time": "2024-08-14T12:09:57.472293Z",
     "start_time": "2024-08-14T12:03:27.628966Z"
    }
   },
   "outputs": [
    {
     "name": "stderr",
     "output_type": "stream",
     "text": [
      "100%|██████████| 100/100 [06:23<00:00,  3.83s/it]\n"
     ]
    }
   ],
   "execution_count": 6
  },
  {
   "cell_type": "code",
   "source": [
    "pic_links = []\n",
    "pic_links_dict = {}\n",
    "count = len(article_links)\n",
    "\n",
    "while len(pic_links_dict) < count:\n",
    "    try:\n",
    "        from selenium import webdriver\n",
    "\n",
    "        options = Options()\n",
    "        options.add_argument(\"--start-maximized\")\n",
    "        options.add_argument('--disable-gpu')\n",
    "        options.add_argument(\"--disable-blink-features=AutomationControlled\")\n",
    "        options.add_experimental_option(\"excludeSwitches\", [\"enable-automation\"])\n",
    "        options.add_experimental_option('useAutomationExtension', False)\n",
    "\n",
    "        chromedriver = 'chromedriver.exe'\n",
    "        service = ChromeService(executable_path=chromedriver)\n",
    "        webdriver = webdriver.Chrome(options=options, service=service)\n",
    "\n",
    "        stealth(webdriver,\n",
    "            languages=[\"en-US\", \"en\"],\n",
    "            user_agent='Mozilla/5.0 (Windows NT 10.0; Win64; x64) AppleWebKit/537.36 (KHTML, like Gecko) Chrome/83.0.4103.53 Safari/537.36',\n",
    "            vendor=\"Google Inc.\",\n",
    "            platform=\"Win32\",\n",
    "            webgl_vendor=\"Intel Inc.\",\n",
    "            renderer=\"Intel Iris OpenGL Engine\",\n",
    "            fix_hairline=True,\n",
    "            )\n",
    "\n",
    "        for link in tqdm(article_links):\n",
    "            webdriver.get(link)\n",
    "            time.sleep(0.5)\n",
    "            webdriver.execute_script(\"window.scrollTo(0, 2080)\")\n",
    "            time.sleep(1)\n",
    "            WebDriverWait(webdriver, 30).until(ec.visibility_of_element_located((By.CSS_SELECTOR, '#figures')))\n",
    "            pics = webdriver.find_element(By.CSS_SELECTOR, '#slides-container').find_elements(By.CLASS_NAME, 'figure-item ')\n",
    "            time.sleep(1)\n",
    "            for pic in pics:\n",
    "                pic_link = pic.find_element(By.TAG_NAME, 'a').get_attribute('href')\n",
    "                pic_links.append(pic_link)\n",
    "                pic_links_dict[link] = pic_links\n",
    "            pic_links = []\n",
    "\n",
    "    except TimeoutException:\n",
    "        webdriver.close()\n",
    "        continue\n",
    "\n",
    "webdriver.quit()"
   ],
   "metadata": {
    "collapsed": false,
    "pycharm": {
     "name": "#%%\n"
    },
    "ExecuteTime": {
     "end_time": "2024-08-14T12:20:10.486559Z",
     "start_time": "2024-08-14T12:12:02.315093Z"
    }
   },
   "outputs": [
    {
     "name": "stderr",
     "output_type": "stream",
     "text": [
      "100%|██████████| 79/79 [08:01<00:00,  6.10s/it]\n"
     ]
    }
   ],
   "execution_count": 8
  },
  {
   "metadata": {},
   "cell_type": "code",
   "source": [
    "result_directory = 'result_pics'\n",
    "result_directory_abs_path = os.path.abspath(result_directory)\n",
    "\n",
    "if not os.path.exists(result_directory + '/'):\n",
    "    os.makedirs(result_directory + '/')\n",
    "\n",
    "\n",
    "for item in tqdm(pic_links_dict.items()):\n",
    "    key_name = str(item[0]).split('/')[-1]\n",
    "    if not os.path.exists(result_directory + '/' + key_name + '/'):\n",
    "        os.makedirs(result_directory + '/' + key_name + '/')\n",
    "    for value in item[1]:\n",
    "        prefs = {\n",
    "            \"profile.default_content_settings.popups\": 0,\n",
    "            \"download.default_directory\" : fr\"{result_directory_abs_path}\" + rf\"\\{key_name}\",\n",
    "            \"download.prompt_for_download\": False,\n",
    "            \"download.directory_upgrade\": True,\n",
    "            \"safebrowsing_for_trusted_sources_enabled\": False,\n",
    "            \"safebrowsing.enabled\": False\n",
    "        }\n",
    "\n",
    "        from selenium import webdriver\n",
    "\n",
    "        options = Options()\n",
    "        options.add_argument(\"--start-maximized\")\n",
    "        options.add_argument('--disable-gpu')\n",
    "        options.add_argument(\"--disable-blink-features=AutomationControlled\")\n",
    "        options.add_experimental_option(\"excludeSwitches\", [\"enable-automation\"])\n",
    "        options.add_experimental_option('useAutomationExtension', False)\n",
    "\n",
    "        options.add_experimental_option('prefs', prefs)\n",
    "\n",
    "        chromedriver = 'chromedriver.exe'\n",
    "        service = ChromeService(executable_path=chromedriver)\n",
    "        webdriver = webdriver.Chrome(options=options, service=service)\n",
    "\n",
    "        stealth(webdriver,\n",
    "            languages=[\"en-US\", \"en\"],\n",
    "            user_agent='Mozilla/5.0 (Windows NT 10.0; Win64; x64) AppleWebKit/537.36 (KHTML, like Gecko) Chrome/83.0.4103.53 Safari/537.36',\n",
    "            vendor=\"Google Inc.\",\n",
    "            platform=\"Win32\",\n",
    "            webgl_vendor=\"Intel Inc.\",\n",
    "            renderer=\"Intel Iris OpenGL Engine\",\n",
    "            fix_hairline=True,\n",
    "            )\n",
    "        try:\n",
    "            webdriver.get(value)\n",
    "            time.sleep(1)\n",
    "            while webdriver.execute_script(\"return document.readyState\") != \"complete\":\n",
    "                time.sleep(1)\n",
    "            while any(filename.endswith('.crdownload') for filename in os.listdir(result_directory + '/' + key_name + '/')):\n",
    "                time.sleep(3)\n",
    "        except TimeoutException:\n",
    "            webdriver.refresh()\n",
    "webdriver.quit()"
   ],
   "outputs": [],
   "execution_count": null
  },
  {
   "metadata": {},
   "cell_type": "code",
   "outputs": [],
   "execution_count": null,
   "source": ""
  }
 ],
 "metadata": {
  "kernelspec": {
   "display_name": "Python 3",
   "language": "python",
   "name": "python3"
  },
  "language_info": {
   "codemirror_mode": {
    "name": "ipython",
    "version": 2
   },
   "file_extension": ".py",
   "mimetype": "text/x-python",
   "name": "python",
   "nbconvert_exporter": "python",
   "pygments_lexer": "ipython2",
   "version": "2.7.6"
  }
 },
 "nbformat": 4,
 "nbformat_minor": 0
}
